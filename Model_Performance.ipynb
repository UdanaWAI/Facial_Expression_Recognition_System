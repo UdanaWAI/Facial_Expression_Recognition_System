{
 "cells": [
  {
   "cell_type": "code",
   "execution_count": 9,
   "id": "25420aae-dfde-4dbd-86d8-e219a3133018",
   "metadata": {},
   "outputs": [],
   "source": [
    "from tensorflow.keras.models import load_model\n",
    "from tensorflow.keras.preprocessing.image import ImageDataGenerator\n",
    "import numpy as np\n",
    "from sklearn.metrics import accuracy_score, precision_score, recall_score, f1_score, classification_report"
   ]
  },
  {
   "cell_type": "code",
   "execution_count": 10,
   "id": "9abaee7f-e75f-4757-8b58-052705d984a5",
   "metadata": {},
   "outputs": [
    {
     "name": "stderr",
     "output_type": "stream",
     "text": [
      "WARNING:absl:Compiled the loaded model, but the compiled metrics have yet to be built. `model.compile_metrics` will be empty until you train or evaluate the model.\n",
      "WARNING:absl:Compiled the loaded model, but the compiled metrics have yet to be built. `model.compile_metrics` will be empty until you train or evaluate the model.\n"
     ]
    }
   ],
   "source": [
    "model1 = load_model(\"facial_expressions_model.h5\")             # CNN\n",
    "model2 = load_model(\"facial_expressions_model_MobileNetV2.h5\")  # MobileNetV2"
   ]
  },
  {
   "cell_type": "code",
   "execution_count": 11,
   "id": "d402486b-610a-4607-8ba6-4d06b0998718",
   "metadata": {},
   "outputs": [
    {
     "name": "stdout",
     "output_type": "stream",
     "text": [
      "Found 7066 images belonging to 7 classes.\n",
      "Found 7066 images belonging to 7 classes.\n"
     ]
    }
   ],
   "source": [
    "# CNN model (grayscale, 48x48)\n",
    "test_datagen1 = ImageDataGenerator(rescale=1./255)\n",
    "test_generator1 = test_datagen1.flow_from_directory(\n",
    "    \"images/validation\",          \n",
    "    target_size=(48, 48),\n",
    "    color_mode=\"grayscale\",\n",
    "    class_mode=\"categorical\",\n",
    "    shuffle=False,\n",
    "    batch_size=32\n",
    ")\n",
    "\n",
    "# MobileNetV2 model (RGB, 128x128)\n",
    "test_datagen2 = ImageDataGenerator(rescale=1./255)\n",
    "test_generator2 = test_datagen2.flow_from_directory(\n",
    "    \"images/validation\",         \n",
    "    target_size=(128, 128),\n",
    "    color_mode=\"rgb\",\n",
    "    class_mode=\"categorical\",\n",
    "    shuffle=False,\n",
    "    batch_size=32\n",
    ")"
   ]
  },
  {
   "cell_type": "code",
   "execution_count": 12,
   "id": "3d0ed5f4-3efc-42fd-9a87-934a47fa4e14",
   "metadata": {},
   "outputs": [
    {
     "name": "stdout",
     "output_type": "stream",
     "text": [
      "\u001b[1m221/221\u001b[0m \u001b[32m━━━━━━━━━━━━━━━━━━━━\u001b[0m\u001b[37m\u001b[0m \u001b[1m9s\u001b[0m 39ms/step\n",
      "\u001b[1m221/221\u001b[0m \u001b[32m━━━━━━━━━━━━━━━━━━━━\u001b[0m\u001b[37m\u001b[0m \u001b[1m32s\u001b[0m 137ms/step\n"
     ]
    }
   ],
   "source": [
    "# Model 1\n",
    "y_pred1 = model1.predict(test_generator1)\n",
    "y_pred_classes1 = np.argmax(y_pred1, axis=1)\n",
    "y_true1 = test_generator1.classes\n",
    "\n",
    "# Model 2\n",
    "y_pred2 = model2.predict(test_generator2)\n",
    "y_pred_classes2 = np.argmax(y_pred2, axis=1)\n",
    "y_true2 = test_generator2.classes"
   ]
  },
  {
   "cell_type": "code",
   "execution_count": 13,
   "id": "2870d853-33c7-4cdc-b86d-05fe9b4689f5",
   "metadata": {},
   "outputs": [],
   "source": [
    "# Metrics function\n",
    "def print_metrics(y_true, y_pred, model_name):\n",
    "    acc = accuracy_score(y_true, y_pred)\n",
    "    prec = precision_score(y_true, y_pred, average=\"weighted\")\n",
    "    rec = recall_score(y_true, y_pred, average=\"weighted\")\n",
    "    f1 = f1_score(y_true, y_pred, average=\"weighted\")\n",
    "    \n",
    "    print(f\"---- {model_name} Performance ----\")\n",
    "    print(f\"Accuracy : {acc:.4f}\")\n",
    "    print(f\"Precision: {prec:.4f}\")\n",
    "    print(f\"Recall   : {rec:.4f}\")\n",
    "    print(f\"F1-Score : {f1:.4f}\")\n",
    "    print(\"\\nClassification Report:\\n\")\n",
    "    print(classification_report(y_true, y_pred, target_names=list(test_generator1.class_indices.keys())))\n",
    "    print(\"--------------------------------\\n\")"
   ]
  },
  {
   "cell_type": "code",
   "execution_count": 14,
   "id": "6c45bf48-4bb9-44af-b23f-2269f1a06973",
   "metadata": {},
   "outputs": [
    {
     "name": "stdout",
     "output_type": "stream",
     "text": [
      "---- CNN Model Performance ----\n",
      "Accuracy : 0.6349\n",
      "Precision: 0.6335\n",
      "Recall   : 0.6349\n",
      "F1-Score : 0.6259\n",
      "\n",
      "Classification Report:\n",
      "\n",
      "              precision    recall  f1-score   support\n",
      "\n",
      "       angry       0.55      0.53      0.54       960\n",
      "     disgust       0.78      0.42      0.55       111\n",
      "        fear       0.55      0.30      0.39      1018\n",
      "       happy       0.83      0.86      0.85      1825\n",
      "     neutral       0.53      0.70      0.60      1216\n",
      "         sad       0.51      0.51      0.51      1139\n",
      "    surprise       0.70      0.77      0.74       797\n",
      "\n",
      "    accuracy                           0.63      7066\n",
      "   macro avg       0.64      0.59      0.60      7066\n",
      "weighted avg       0.63      0.63      0.63      7066\n",
      "\n",
      "--------------------------------\n",
      "\n",
      "---- MobileNetV2 Model Performance ----\n",
      "Accuracy : 0.4316\n",
      "Precision: 0.4553\n",
      "Recall   : 0.4316\n",
      "F1-Score : 0.3986\n",
      "\n",
      "Classification Report:\n",
      "\n",
      "              precision    recall  f1-score   support\n",
      "\n",
      "       angry       0.52      0.06      0.11       960\n",
      "     disgust       0.00      0.00      0.00       111\n",
      "        fear       0.33      0.11      0.17      1018\n",
      "       happy       0.59      0.66      0.62      1825\n",
      "     neutral       0.41      0.43      0.42      1216\n",
      "         sad       0.28      0.65      0.39      1139\n",
      "    surprise       0.62      0.50      0.55       797\n",
      "\n",
      "    accuracy                           0.43      7066\n",
      "   macro avg       0.39      0.35      0.32      7066\n",
      "weighted avg       0.46      0.43      0.40      7066\n",
      "\n",
      "--------------------------------\n",
      "\n"
     ]
    },
    {
     "name": "stderr",
     "output_type": "stream",
     "text": [
      "C:\\Users\\udana\\anaconda3\\Lib\\site-packages\\sklearn\\metrics\\_classification.py:1531: UndefinedMetricWarning: Precision is ill-defined and being set to 0.0 in labels with no predicted samples. Use `zero_division` parameter to control this behavior.\n",
      "  _warn_prf(average, modifier, f\"{metric.capitalize()} is\", len(result))\n",
      "C:\\Users\\udana\\anaconda3\\Lib\\site-packages\\sklearn\\metrics\\_classification.py:1531: UndefinedMetricWarning: Precision is ill-defined and being set to 0.0 in labels with no predicted samples. Use `zero_division` parameter to control this behavior.\n",
      "  _warn_prf(average, modifier, f\"{metric.capitalize()} is\", len(result))\n",
      "C:\\Users\\udana\\anaconda3\\Lib\\site-packages\\sklearn\\metrics\\_classification.py:1531: UndefinedMetricWarning: Precision is ill-defined and being set to 0.0 in labels with no predicted samples. Use `zero_division` parameter to control this behavior.\n",
      "  _warn_prf(average, modifier, f\"{metric.capitalize()} is\", len(result))\n",
      "C:\\Users\\udana\\anaconda3\\Lib\\site-packages\\sklearn\\metrics\\_classification.py:1531: UndefinedMetricWarning: Precision is ill-defined and being set to 0.0 in labels with no predicted samples. Use `zero_division` parameter to control this behavior.\n",
      "  _warn_prf(average, modifier, f\"{metric.capitalize()} is\", len(result))\n"
     ]
    }
   ],
   "source": [
    "print_metrics(y_true1, y_pred_classes1, \"CNN Model\")\n",
    "print_metrics(y_true2, y_pred_classes2, \"MobileNetV2 Model\")"
   ]
  },
  {
   "cell_type": "code",
   "execution_count": null,
   "id": "72b118a7-be19-4b21-b0df-c9961372198d",
   "metadata": {},
   "outputs": [],
   "source": []
  }
 ],
 "metadata": {
  "kernelspec": {
   "display_name": "Python (image-processing)",
   "language": "python",
   "name": "venv"
  },
  "language_info": {
   "codemirror_mode": {
    "name": "ipython",
    "version": 3
   },
   "file_extension": ".py",
   "mimetype": "text/x-python",
   "name": "python",
   "nbconvert_exporter": "python",
   "pygments_lexer": "ipython3",
   "version": "3.12.7"
  }
 },
 "nbformat": 4,
 "nbformat_minor": 5
}
